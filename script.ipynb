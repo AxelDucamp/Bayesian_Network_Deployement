{
 "cells": [
  {
   "cell_type": "code",
   "execution_count": 35,
   "metadata": {},
   "outputs": [],
   "source": [
    "import tensorflow as tf\n",
    "import tensorflow_probability as tfp\n",
    "import pandas as pd\n",
    "import numpy as np\n",
    "from sklearn.model_selection import train_test_split"
   ]
  },
  {
   "cell_type": "code",
   "execution_count": 2,
   "metadata": {},
   "outputs": [
    {
     "data": {
      "text/html": [
       "<div>\n",
       "<style scoped>\n",
       "    .dataframe tbody tr th:only-of-type {\n",
       "        vertical-align: middle;\n",
       "    }\n",
       "\n",
       "    .dataframe tbody tr th {\n",
       "        vertical-align: top;\n",
       "    }\n",
       "\n",
       "    .dataframe thead th {\n",
       "        text-align: right;\n",
       "    }\n",
       "</style>\n",
       "<table border=\"1\" class=\"dataframe\">\n",
       "  <thead>\n",
       "    <tr style=\"text-align: right;\">\n",
       "      <th></th>\n",
       "      <th>PassengerId</th>\n",
       "      <th>Survived</th>\n",
       "      <th>Pclass</th>\n",
       "      <th>Name</th>\n",
       "      <th>Sex</th>\n",
       "      <th>Age</th>\n",
       "      <th>SibSp</th>\n",
       "      <th>Parch</th>\n",
       "      <th>Ticket</th>\n",
       "      <th>Fare</th>\n",
       "      <th>Cabin</th>\n",
       "      <th>Embarked</th>\n",
       "    </tr>\n",
       "  </thead>\n",
       "  <tbody>\n",
       "    <tr>\n",
       "      <th>0</th>\n",
       "      <td>1</td>\n",
       "      <td>0</td>\n",
       "      <td>3</td>\n",
       "      <td>Braund, Mr. Owen Harris</td>\n",
       "      <td>male</td>\n",
       "      <td>22.0</td>\n",
       "      <td>1</td>\n",
       "      <td>0</td>\n",
       "      <td>A/5 21171</td>\n",
       "      <td>7.2500</td>\n",
       "      <td>NaN</td>\n",
       "      <td>S</td>\n",
       "    </tr>\n",
       "    <tr>\n",
       "      <th>1</th>\n",
       "      <td>2</td>\n",
       "      <td>1</td>\n",
       "      <td>1</td>\n",
       "      <td>Cumings, Mrs. John Bradley (Florence Briggs Th...</td>\n",
       "      <td>female</td>\n",
       "      <td>38.0</td>\n",
       "      <td>1</td>\n",
       "      <td>0</td>\n",
       "      <td>PC 17599</td>\n",
       "      <td>71.2833</td>\n",
       "      <td>C85</td>\n",
       "      <td>C</td>\n",
       "    </tr>\n",
       "  </tbody>\n",
       "</table>\n",
       "</div>"
      ],
      "text/plain": [
       "   PassengerId  Survived  Pclass  \\\n",
       "0            1         0       3   \n",
       "1            2         1       1   \n",
       "\n",
       "                                                Name     Sex   Age  SibSp  \\\n",
       "0                            Braund, Mr. Owen Harris    male  22.0      1   \n",
       "1  Cumings, Mrs. John Bradley (Florence Briggs Th...  female  38.0      1   \n",
       "\n",
       "   Parch     Ticket     Fare Cabin Embarked  \n",
       "0      0  A/5 21171   7.2500   NaN        S  \n",
       "1      0   PC 17599  71.2833   C85        C  "
      ]
     },
     "execution_count": 2,
     "metadata": {},
     "output_type": "execute_result"
    }
   ],
   "source": [
    "df = pd.read_csv(\"train.csv\")\n",
    "df.head(2)"
   ]
  },
  {
   "cell_type": "code",
   "execution_count": 64,
   "metadata": {},
   "outputs": [],
   "source": [
    "x_train, x_test, y_train, y_test = train_test_split(df.drop(\"Survived\", axis = 1), df[\"Survived\"], test_size = 0.2, random_state=123)"
   ]
  },
  {
   "attachments": {},
   "cell_type": "markdown",
   "metadata": {},
   "source": [
    "# Build Pipeline"
   ]
  },
  {
   "cell_type": "code",
   "execution_count": 65,
   "metadata": {},
   "outputs": [],
   "source": [
    "CAT = [\"Pclass\", \"Sex\"]\n",
    "NUM = [\"Age\", \"Fare\"]\n",
    "\n",
    "features = list()\n",
    "\n",
    "cat_var = [\n",
    "    tf.feature_column.categorical_column_with_vocabulary_list(\n",
    "        cat, df[cat].value_counts().index.tolist()\n",
    "    )\n",
    "    for cat in CAT\n",
    "]\n",
    "\n",
    "cat_var = [\n",
    "    tf.feature_column.indicator_column(cat)\n",
    "    for cat in cat_var\n",
    "]\n",
    "\n",
    "def MinMax(x, num, df):\n",
    "\n",
    "    x = tf.cast(x, tf.float32)\n",
    "    MIN = np.float32(np.min(df[num]))\n",
    "    MAX = np.float32(np.max(df[num]))\n",
    "    MEAN = np.float32(np.mean(df[num]))\n",
    "\n",
    "    x = tf.where(tf.math.is_nan(x), MEAN, x)\n",
    "    x = (x - MIN) / (MAX - MIN)\n",
    "\n",
    "    return x\n",
    "\n",
    "num_var = list()\n",
    "num_var.append(\n",
    "    tf.feature_column.numeric_column(\"Age\", normalizer_fn=lambda x: MinMax(x, \"Age\", x_train))\n",
    ")\n",
    "num_var.append(\n",
    "    tf.feature_column.numeric_column(\"Fare\", normalizer_fn=lambda x: MinMax(x, \"Fare\", x_train))\n",
    ")\n",
    "\n",
    "for var in cat_var:\n",
    "    features.append(var)\n",
    "\n",
    "for var in num_var:\n",
    "    features.append(var)\n",
    "\n",
    "dense_features = tf.keras.layers.DenseFeatures(features)"
   ]
  },
  {
   "cell_type": "code",
   "execution_count": 66,
   "metadata": {},
   "outputs": [
    {
     "data": {
      "text/plain": [
       "<tf.Tensor: shape=(1, 7), dtype=float32, numpy=\n",
       "array([[0.6481528 , 0.02537431, 0.        , 0.        , 1.        ,\n",
       "        1.        , 0.        ]], dtype=float32)>"
      ]
     },
     "execution_count": 66,
     "metadata": {},
     "output_type": "execute_result"
    }
   ],
   "source": [
    "dense_features(x_train.iloc[5:6].to_dict(\"list\"))"
   ]
  },
  {
   "attachments": {},
   "cell_type": "markdown",
   "metadata": {},
   "source": [
    "# Bayesian Neural Net (Aleatoric uncertainty)"
   ]
  },
  {
   "cell_type": "code",
   "execution_count": 67,
   "metadata": {},
   "outputs": [
    {
     "name": "stdout",
     "output_type": "stream",
     "text": [
      "Model: \"model_6\"\n",
      "__________________________________________________________________________________________________\n",
      " Layer (type)                   Output Shape         Param #     Connected to                     \n",
      "==================================================================================================\n",
      " input_43 (InputLayer)          [(None,)]            0           []                               \n",
      "                                                                                                  \n",
      " input_44 (InputLayer)          [(None,)]            0           []                               \n",
      "                                                                                                  \n",
      " input_41 (InputLayer)          [(None,)]            0           []                               \n",
      "                                                                                                  \n",
      " input_42 (InputLayer)          [(None,)]            0           []                               \n",
      "                                                                                                  \n",
      " dense_features_6 (DenseFeature  (None, 7)           0           ['input_43[0][0]',               \n",
      " s)                                                               'input_44[0][0]',               \n",
      "                                                                  'input_41[0][0]',               \n",
      "                                                                  'input_42[0][0]']               \n",
      "                                                                                                  \n",
      " dense_17 (Dense)               (None, 64)           512         ['dense_features_6[0][0]']       \n",
      "                                                                                                  \n",
      " dense_18 (Dense)               (None, 32)           2080        ['dense_17[0][0]']               \n",
      "                                                                                                  \n",
      " dense_19 (Dense)               (None, 2)            66          ['dense_18[0][0]']               \n",
      "                                                                                                  \n",
      " one_hot_categorical_6 (OneHotC  ((None, 2),         0           ['dense_19[0][0]']               \n",
      " ategorical)                     (None, 2))                                                       \n",
      "                                                                                                  \n",
      "==================================================================================================\n",
      "Total params: 2,658\n",
      "Trainable params: 2,658\n",
      "Non-trainable params: 0\n",
      "__________________________________________________________________________________________________\n"
     ]
    }
   ],
   "source": [
    "tfpl = tfp.layers\n",
    "layers = tf.keras.layers\n",
    "\n",
    "inp = {\n",
    "    \"Pclass\" : tf.keras.layers.Input(shape=(), dtype=tf.int32),\n",
    "    \"Sex\" : tf.keras.layers.Input(shape=(), dtype=tf.string),\n",
    "    \"Age\" : tf.keras.layers.Input(shape=(), dtype=tf.float32),\n",
    "    \"Fare\" : tf.keras.layers.Input(shape=(), dtype=tf.float32)\n",
    "}\n",
    "\n",
    "num_class = 2\n",
    "\n",
    "densef = dense_features(inp)\n",
    "x = layers.Dense(64, activation=\"relu\")(densef)\n",
    "x = layers.Dense(32, activation= \"relu\")(x)\n",
    "x = layers.Dense(tfpl.OneHotCategorical.params_size(num_class))(x)\n",
    "out = tfpl.OneHotCategorical(num_class)(x)\n",
    "\n",
    "model = tf.keras.models.Model(\n",
    "    inp, out\n",
    ")\n",
    "\n",
    "def negative_log_likelihood(y_true, y_pred):\n",
    "    return -y_pred.log_prob(y_true)\n",
    "\n",
    "model.compile(\n",
    "    optimizer=\"adam\",\n",
    "    loss = negative_log_likelihood,\n",
    "    metrics = [\"acc\"]\n",
    ")\n",
    "\n",
    "model.summary()"
   ]
  },
  {
   "cell_type": "code",
   "execution_count": 68,
   "metadata": {},
   "outputs": [],
   "source": [
    "df_train = x_train.copy()\n",
    "df_train[\"Survived\"] = y_train\n",
    "\n",
    "df_train.dropna(axis = 0, inplace=True)\n",
    "\n",
    "x_train = df_train.drop(\"Survived\", axis = 1)\n",
    "y_train = df_train[\"Survived\"]\n",
    "\n",
    "TRAIN = tf.data.Dataset.from_tensor_slices((x_train.to_dict(\"list\"),tf.keras.utils.to_categorical(y_train, 2)))\n",
    "TRAIN = TRAIN.shuffle(10).batch(16).prefetch(tf.data.AUTOTUNE)"
   ]
  },
  {
   "cell_type": "code",
   "execution_count": 69,
   "metadata": {},
   "outputs": [
    {
     "name": "stdout",
     "output_type": "stream",
     "text": [
      "Epoch 1/20\n"
     ]
    },
    {
     "name": "stderr",
     "output_type": "stream",
     "text": [
      "c:\\Users\\ducam\\AppData\\Local\\Programs\\Python\\Python39\\lib\\site-packages\\keras\\engine\\functional.py:637: UserWarning: Input dict contained keys ['PassengerId', 'Name', 'SibSp', 'Parch', 'Ticket', 'Cabin', 'Embarked'] which did not match any model input. They will be ignored by the model.\n",
      "  inputs = self._flatten_to_reference_inputs(inputs)\n"
     ]
    },
    {
     "name": "stdout",
     "output_type": "stream",
     "text": [
      "9/9 [==============================] - 1s 8ms/step - loss: 0.6773 - acc: 0.4894\n",
      "Epoch 2/20\n",
      "9/9 [==============================] - 0s 8ms/step - loss: 0.6135 - acc: 0.5816\n",
      "Epoch 3/20\n",
      "9/9 [==============================] - 0s 10ms/step - loss: 0.5703 - acc: 0.6099\n",
      "Epoch 4/20\n",
      "9/9 [==============================] - 0s 8ms/step - loss: 0.5373 - acc: 0.5957\n",
      "Epoch 5/20\n",
      "9/9 [==============================] - 0s 24ms/step - loss: 0.5094 - acc: 0.6028\n",
      "Epoch 6/20\n",
      "9/9 [==============================] - 0s 8ms/step - loss: 0.4858 - acc: 0.6383\n",
      "Epoch 7/20\n",
      "9/9 [==============================] - 0s 7ms/step - loss: 0.4677 - acc: 0.6738\n",
      "Epoch 8/20\n",
      "9/9 [==============================] - 0s 6ms/step - loss: 0.4551 - acc: 0.6950\n",
      "Epoch 9/20\n",
      "9/9 [==============================] - 0s 6ms/step - loss: 0.4457 - acc: 0.7518\n",
      "Epoch 10/20\n",
      "9/9 [==============================] - 0s 6ms/step - loss: 0.4387 - acc: 0.7305\n",
      "Epoch 11/20\n",
      "9/9 [==============================] - 0s 6ms/step - loss: 0.4350 - acc: 0.6596\n",
      "Epoch 12/20\n",
      "9/9 [==============================] - 0s 6ms/step - loss: 0.4312 - acc: 0.7447\n",
      "Epoch 13/20\n",
      "9/9 [==============================] - 0s 6ms/step - loss: 0.4283 - acc: 0.7376\n",
      "Epoch 14/20\n",
      "9/9 [==============================] - 0s 6ms/step - loss: 0.4279 - acc: 0.6879\n",
      "Epoch 15/20\n",
      "9/9 [==============================] - 0s 6ms/step - loss: 0.4249 - acc: 0.6879\n",
      "Epoch 16/20\n",
      "9/9 [==============================] - 0s 6ms/step - loss: 0.4222 - acc: 0.6879\n",
      "Epoch 17/20\n",
      "9/9 [==============================] - 0s 6ms/step - loss: 0.4207 - acc: 0.6809\n",
      "Epoch 18/20\n",
      "9/9 [==============================] - 0s 6ms/step - loss: 0.4209 - acc: 0.7163\n",
      "Epoch 19/20\n",
      "9/9 [==============================] - 0s 6ms/step - loss: 0.4168 - acc: 0.6738\n",
      "Epoch 20/20\n",
      "9/9 [==============================] - 0s 6ms/step - loss: 0.4168 - acc: 0.7376\n"
     ]
    },
    {
     "data": {
      "text/plain": [
       "<keras.callbacks.History at 0x2757889bcd0>"
      ]
     },
     "execution_count": 69,
     "metadata": {},
     "output_type": "execute_result"
    }
   ],
   "source": [
    "model.fit(TRAIN, epochs = 20)"
   ]
  },
  {
   "cell_type": "code",
   "execution_count": 70,
   "metadata": {},
   "outputs": [],
   "source": [
    "to_pred = {'PassengerId': np.array([1]),\n",
    " 'Survived': np.array([0]),\n",
    " 'Pclass': np.array([3]),\n",
    " 'Name': np.array(['Braund, Mr. Owen Harris']),\n",
    " 'Sex': np.array(['male']),\n",
    " 'Age': np.array([22.0]),\n",
    " 'SibSp': np.array([1]),\n",
    " 'Parch': np.array([0]),\n",
    " 'Ticket': np.array(['A/5 21171']),\n",
    " 'Fare': np.array([7.25]),\n",
    " 'Cabin': np.array([np.nan]),\n",
    " 'Embarked': np.array(['S'])}"
   ]
  },
  {
   "cell_type": "code",
   "execution_count": 95,
   "metadata": {},
   "outputs": [],
   "source": [
    "to_pred = {\n",
    "        \"Pclass\": np.array([2]),\n",
    "        \"Sex\": np.array([\"male\"]),\n",
    "        \"Age\": np.array([2]),\n",
    "        \"Fare\": np.array([0.2])\n",
    "    }"
   ]
  },
  {
   "cell_type": "code",
   "execution_count": 96,
   "metadata": {},
   "outputs": [
    {
     "name": "stdout",
     "output_type": "stream",
     "text": [
      "1/1 [==============================] - 0s 26ms/step\n"
     ]
    },
    {
     "data": {
      "text/plain": [
       "0"
      ]
     },
     "execution_count": 96,
     "metadata": {},
     "output_type": "execute_result"
    }
   ],
   "source": [
    "np.argmax(model.predict(to_pred), axis=-1)[0]"
   ]
  },
  {
   "cell_type": "code",
   "execution_count": 72,
   "metadata": {},
   "outputs": [],
   "source": [
    "model.save_weights(\"weights.h5\")"
   ]
  },
  {
   "cell_type": "code",
   "execution_count": null,
   "metadata": {},
   "outputs": [],
   "source": []
  }
 ],
 "metadata": {
  "kernelspec": {
   "display_name": "Python 3",
   "language": "python",
   "name": "python3"
  },
  "language_info": {
   "codemirror_mode": {
    "name": "ipython",
    "version": 3
   },
   "file_extension": ".py",
   "mimetype": "text/x-python",
   "name": "python",
   "nbconvert_exporter": "python",
   "pygments_lexer": "ipython3",
   "version": "3.9.1"
  },
  "orig_nbformat": 4,
  "vscode": {
   "interpreter": {
    "hash": "43b3accc3fe12b72ebaa490ad1281059a06de2a12bbc44460ccebc088d05b046"
   }
  }
 },
 "nbformat": 4,
 "nbformat_minor": 2
}
